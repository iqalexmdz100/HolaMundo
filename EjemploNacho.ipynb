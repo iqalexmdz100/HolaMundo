{
  "nbformat": 4,
  "nbformat_minor": 0,
  "metadata": {
    "colab": {
      "provenance": [],
      "authorship_tag": "ABX9TyNEwxMbR6DCLZKA2CkRO3FZ",
      "include_colab_link": true
    },
    "kernelspec": {
      "name": "python3",
      "display_name": "Python 3"
    },
    "language_info": {
      "name": "python"
    }
  },
  "cells": [
    {
      "cell_type": "markdown",
      "metadata": {
        "id": "view-in-github",
        "colab_type": "text"
      },
      "source": [
        "<a href=\"https://colab.research.google.com/github/iqalexmdz100/HolaMundo/blob/main/EjemploNacho.ipynb\" target=\"_parent\"><img src=\"https://colab.research.google.com/assets/colab-badge.svg\" alt=\"Open In Colab\"/></a>"
      ]
    },
    {
      "cell_type": "markdown",
      "source": [
        "# Ejemplo inicial para Nacho\n",
        "\n",
        "Esto es un *ejemplo* para iniciar a trabjar en Colab\n",
        "**Primer día de residencia**\n",
        "\n",
        "[ITLM](https://www.mochis.tecnm.mx/)\n",
        "\n",
        "## Cálculo de energía irradiada del sol\n",
        "\n",
        "Datos:"
      ],
      "metadata": {
        "id": "TymRlRfiJBRi"
      }
    },
    {
      "cell_type": "code",
      "execution_count": 1,
      "metadata": {
        "cellView": "form",
        "id": "aiSQQwz3I-Yk"
      },
      "outputs": [],
      "source": [
        "# @title masa\n",
        "m=4e9 #kg/s"
      ]
    },
    {
      "cell_type": "code",
      "source": [
        "# @title Energía\n",
        "c=3e8 #m/s\n",
        "E=m*c**2\n",
        "print(\"La energía generada es:\",E,\"W\")"
      ],
      "metadata": {
        "colab": {
          "base_uri": "https://localhost:8080/"
        },
        "id": "oaC_OphFKxZT",
        "outputId": "369ee0bf-7839-42d7-e923-62c7d5ce0a7a"
      },
      "execution_count": 5,
      "outputs": [
        {
          "output_type": "stream",
          "name": "stdout",
          "text": [
            "La energía generada es: 3.6e+26 J\n"
          ]
        }
      ]
    },
    {
      "cell_type": "markdown",
      "source": [
        "### La distancia de la tierra al sol es:\n",
        "**151 millones de km**"
      ],
      "metadata": {
        "id": "4lWinvs5LgnU"
      }
    },
    {
      "cell_type": "code",
      "source": [
        "r=1.51e11 #metros\n",
        "S=4*3.1416*r**2\n",
        "p=E/S\n",
        "print(\"La energía por metro cuadrado es:\",p,\"W/m2\")"
      ],
      "metadata": {
        "colab": {
          "base_uri": "https://localhost:8080/"
        },
        "id": "iVPHy4kMLoXU",
        "outputId": "e4d0f9cb-3465-4f17-c1d1-6809361bd3c1"
      },
      "execution_count": 8,
      "outputs": [
        {
          "output_type": "stream",
          "name": "stdout",
          "text": [
            "La energía por metro cuadrado es: 1256.4283481193731 W/m2\n"
          ]
        }
      ]
    }
  ]
}