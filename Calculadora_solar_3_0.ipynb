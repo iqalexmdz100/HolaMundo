{
  "nbformat": 4,
  "nbformat_minor": 0,
  "metadata": {
    "colab": {
      "provenance": [],
      "include_colab_link": true
    },
    "kernelspec": {
      "name": "python3",
      "display_name": "Python 3"
    },
    "language_info": {
      "name": "python"
    }
  },
  "cells": [
    {
      "cell_type": "markdown",
      "metadata": {
        "id": "view-in-github",
        "colab_type": "text"
      },
      "source": [
        "<a href=\"https://colab.research.google.com/github/iqalexmdz100/HolaMundo/blob/main/Calculadora_solar_3_0.ipynb\" target=\"_parent\"><img src=\"https://colab.research.google.com/assets/colab-badge.svg\" alt=\"Open In Colab\"/></a>"
      ]
    },
    {
      "cell_type": "code",
      "execution_count": null,
      "metadata": {
        "id": "HnjlURl_8wpF"
      },
      "outputs": [],
      "source": [
        "%%capture\n",
        "!pip install gradio\n",
        "import gradio as gr\n",
        "import math as mt\n",
        "import matplotlib.pyplot as plt\n",
        "import io\n",
        "from PIL import Image"
      ]
    },
    {
      "cell_type": "code",
      "source": [
        "import math as mt\n",
        "import numpy as np\n",
        "import matplotlib.pyplot as plt\n",
        "import io\n",
        "from PIL import Image\n",
        "\n",
        "# Retorna el valor en formato decimal de grados/horas, minutos y segundos\n",
        "def g_d(g,m,s):\n",
        "  return g+m/60+s/3600\n",
        "\n",
        "# Retorna el valor en formato de grados/horas, minutos y segundos dado el decimal\n",
        "def d_g(h):\n",
        "  minuts=int((h-int(h))*60)\n",
        "  seconds=int((60*h-int(h*60))*60)\n",
        "  if minuts<10: minuts=\"0\"+str(minuts)\n",
        "  if seconds<10: seconds=\"0\"+str(minuts)\n",
        "  return str(int(h))+\":\"+str(minuts)+\":\"+str(seconds)\n",
        "\n",
        "def d_gday(h):\n",
        "  Texto=\"\"\n",
        "  if h>24:\n",
        "    h-=24\n",
        "    Texto=\"+1D\"\n",
        "  elif h<0:\n",
        "    h+=24\n",
        "    Texto=\"-1D\"\n",
        "  minuts=int((h-int(h))*60)\n",
        "  seconds=int((60*h-int(h*60))*60)\n",
        "  if minuts<10: minuts=\"0\"+str(minuts)\n",
        "  if seconds<10: seconds=\"0\"+str(minuts)\n",
        "  return str(int(h))+\":\"+str(minuts)+\":\"+str(seconds)+Texto\n",
        "\n",
        "#Funciones de geometría solar y separación de texto, propuesta de simplificación de código\n",
        "\n",
        "def separa_dec(a):\n",
        "  p1,p2,p3=a.find('°'),a.find('\\''),a.find('\\\"')\n",
        "  h,m,s=a[0:p1],a[int(p1+1):p2],a[int(p2+1):p3]\n",
        "  return  float(h)+float(m)/60+float(s)/3600\n",
        "\n",
        "def septime_dec(a):\n",
        "  p1=a.find(':')\n",
        "  p2=a[p1+1:].find(':')+p1+1\n",
        "  h,m,s=a[0:p1],a[int(p1+1):p2],a[int(p2+1):]\n",
        "  return  float(h)+float(m)/60+float(s)/3600\n",
        "\n",
        "##########################################################\n",
        "#Calcula la fraccion de año en radianes\n",
        "def fracyear(day,lh,longyear=365):\n",
        "  return ((2*mt.pi)/365)*(day-1+((lh-12)/24))\n",
        "\n",
        "# Calcula la declinación solar tomando el año fraccional como argumento\n",
        "def decsol(fy):\n",
        "  return (0.006918-0.399912*mt.cos(fy)+0.070257*mt.sin(fy)-0.006758*mt.cos(2*fy)+0.000907*mt.sin(2*fy)-0.002697*mt.cos(3*fy)+0.00148*mt.sin(3*fy))\n",
        "\n",
        "# Calcula la ecuación del tiempo en minutos tomando como argumento el año fraccional\n",
        "def edt(fy):\n",
        "  return 229.18*(0.000075+0.001868*mt.cos(fy)-0.032077*mt.sin(fy)-0.014615*mt.cos(2*fy)-0.040849*mt.sin(2*fy))\n",
        "\n",
        "# Calcula el time offset\n",
        "def toff(fy,long,utc):\n",
        "  return edt(fy)+4*long-60*utc\n",
        "\n",
        "# Calcula el tiempo solar en minutos\n",
        "def tsol(d,lh,long,utc):\n",
        "  offs=toff(fracyear(d,lh),long,utc)\n",
        "  return (lh+offs/60)*60\n",
        "\n",
        "#Hora angular\n",
        "def hang(d,lh,long,utc):\n",
        "  offs=toff(fracyear(d,lh),long,utc)\n",
        "  tsolar=(lh+offs/60)*60\n",
        "  return (tsolar/4)-180\n",
        "\n",
        "# Ángulo cenital\n",
        "def ceang(d,lh,lat,long,utc):\n",
        "  fy=fracyear(d,lh)\n",
        "  ds=decsol(fy)\n",
        "  har=hang(d,lh,long,utc)*mt.pi/180\n",
        "  return mt.acos((mt.sin(lat*(mt.pi/180))*mt.sin(ds))+mt.cos(lat*(mt.pi/180))*mt.cos(ds)*mt.cos(har))\n",
        "\n",
        "\n",
        "# Ángulo Azimut\n",
        "def azang(d,lh,lat,long,utc):\n",
        "  cenit=ceang(d,lh,lat,long,utc)\n",
        "  latr=lat*mt.pi/180\n",
        "  fy=fracyear(d,lh)\n",
        "  ds=decsol(fy)\n",
        "  return mt.pi-mt.acos(-(mt.sin(latr)*mt.cos(cenit)-mt.sin(ds))/(mt.cos(latr)*mt.sin(cenit)))\n",
        "\n",
        "def timetopoints(lat,d,lh):\n",
        "  fy=fracyear(d,lh)\n",
        "  ds=decsol(fy)\n",
        "  ang=90.833*mt.pi/180\n",
        "  latr=lat*mt.pi/180\n",
        "  return mt.acos(mt.cos(ang)/(mt.cos(latr)*mt.cos(ds))-mt.tan(latr)*mt.tan(ds))*180/mt.pi\n",
        "\n",
        "def sunrise(lat,long,d,utc):\n",
        "  lh=12\n",
        "  ha=timetopoints(lat,d,lh)\n",
        "  fy=fracyear(d,lh)\n",
        "  return d_gday((720-4*(long+ha)-edt(fy))/60+utc)\n",
        "\n",
        "def sunset(lat,long,d,utc):\n",
        "  ha=timetopoints(lat,d,12)\n",
        "  lh=12\n",
        "  fy=fracyear(d,lh)\n",
        "  return d_gday((720-4*(long-ha)-edt(fy))/60+utc)\n",
        "\n",
        "def snoon(lat,long,d,utc):\n",
        "  lh=12\n",
        "  fy=fracyear(d,lh)\n",
        "  return d_gday((720-4*(long)-edt(fy))/60+utc)\n",
        "\n",
        "    #Determina el dia del año\n",
        "def dia_anio(fecha):\n",
        "    Date = []\n",
        "    for i in range(len(fecha)):\n",
        "        Date.append(fecha[i])\n",
        "    Año = int(Date[6] + Date[7] + Date[8] + Date[9])\n",
        "    Mes = Date[3] + Date[4]\n",
        "    Dia = int(Date[0]+Date[1])\n",
        "\n",
        "    Meses,posicion,longyear = {\"01\" : 31, \"02\" : 28, \"03\" : 31, \"04\" : 30, \"05\" : 31, \"06\" : 30, \"07\" : 31, \"08\" : 31, \"09\" : 30, \"10\" : 31, \"11\" : 30, \"12\" : 31,},0,365\n",
        "\n",
        "    if Año % 4 == 0 and (Año % 100 != 0 or Año % 400 == 0):\n",
        "      Meses[\"02\"],longyear = 29,366\n",
        "\n",
        "    meslength=np.cumsum([0]+[i for i in Meses.values()])\n",
        "    posicion=Dia+meslength[int(Mes)-1]\n",
        "\n",
        "    return posicion,longyear,meslength\n",
        "\n"
      ],
      "metadata": {
        "id": "g-JYPgxwvWID"
      },
      "execution_count": null,
      "outputs": []
    },
    {
      "cell_type": "code",
      "source": [
        "acumulados=dia_anio(\"31/12/2024\")[2]\n",
        "longyear=366\n",
        "Latitud=25.79\n",
        "angles,x,maac = [],0,0\n",
        "day=283\n",
        "distance=1-0.01672*mt.cos(0.9856*(day-4))\n",
        "print(distance)\n",
        "for i in range(12):\n",
        "  for j in (range(acumulados[i]+1,acumulados[i+1]+1)):\n",
        "    ds=Latitud-decsol( fracyear(j,12,longyear) ) *(180/mt.pi)\n",
        "    mair=np.cos(ds*mt.pi/180)/(1-0.01672*mt.cos(0.9856*(j-4)))**2*(8*timetopoints(Latitud,j,12)/60)\n",
        "    maac+=mair\n",
        "    x +=ds*mair\n",
        "    prom=x/maac\n",
        "  x,maac=0,0\n",
        "  angles.append(prom)\n",
        "\n",
        "angles"
      ],
      "metadata": {
        "colab": {
          "base_uri": "https://localhost:8080/"
        },
        "id": "QYKAzEu9JjM9",
        "outputId": "f0162f3e-ad45-4a71-9869-ed2bfb63ae36"
      },
      "execution_count": 150,
      "outputs": [
        {
          "output_type": "stream",
          "name": "stdout",
          "text": [
            "0.9984465678022433\n"
          ]
        },
        {
          "output_type": "execute_result",
          "data": {
            "text/plain": [
              "[46.53885093218993,\n",
              " 38.45851424141695,\n",
              " 27.26496760972435,\n",
              " 15.784354007324831,\n",
              " 6.82267678995065,\n",
              " 2.6936659034062824,\n",
              " 4.6678142603802,\n",
              " 12.176141997872424,\n",
              " 22.91313919573026,\n",
              " 34.48345458461281,\n",
              " 44.16269604991563,\n",
              " 48.79312994375742]"
            ]
          },
          "metadata": {},
          "execution_count": 150
        }
      ]
    },
    {
      "cell_type": "code",
      "source": [
        "d=365\n",
        "lat=0\n",
        "print(8*timetopoints(lat,d,12)/60)\n",
        "print(sunrise(lat,-108,d,-7) )\n",
        "print(sunset(lat,-108,d,-7) )\n",
        "ceang(80,12,lat,-108,-7)*180/mt.pi"
      ],
      "metadata": {
        "colab": {
          "base_uri": "https://localhost:8080/"
        },
        "id": "e_oRL3kcrzdu",
        "outputId": "ae19da71-de43-4355-b973-45ac361f0a94"
      },
      "execution_count": 177,
      "outputs": [
        {
          "output_type": "stream",
          "name": "stdout",
          "text": [
            "12.120776062447979\n",
            "6:10:49\n",
            "18:18:018\n"
          ]
        },
        {
          "output_type": "execute_result",
          "data": {
            "text/plain": [
              "4.964959868893846"
            ]
          },
          "metadata": {},
          "execution_count": 177
        }
      ]
    },
    {
      "cell_type": "code",
      "source": [
        "longyear=366\n",
        "angles,x = [],0\n",
        "\n",
        "for i in range(1, 361):\n",
        "  dsg = decsol( fracyear(i,12,longyear) ) *(180/mt.pi)\n",
        "  x += dsg\n",
        "  if i %30==0:\n",
        "    prom = x / 30\n",
        "    angles.append(prom)\n",
        "    x = 0\n",
        "  else:\n",
        "    continue\n",
        "\n",
        "print(angles)"
      ],
      "metadata": {
        "colab": {
          "base_uri": "https://localhost:8080/"
        },
        "id": "Zw1t-onQTso7",
        "outputId": "fee12905-2a82-4499-b438-58ef7d58c6f2"
      },
      "execution_count": null,
      "outputs": [
        {
          "output_type": "stream",
          "name": "stdout",
          "text": [
            "[-20.929157282910072, -12.988610274458706, -1.8365913314824622, 9.56084202705193, 18.596418535603824, 23.005481077781432, 21.507885421546614, 14.61472557204676, 4.251441564972435, -7.220093301792944, -17.173985479889403, -22.692052180314366]\n"
          ]
        }
      ]
    },
    {
      "cell_type": "code",
      "source": [
        "\n",
        "\n",
        "def geometria_solar(fecha, hora_local_str, GMT, Longit,  latit, es_oes, Nor_sur):\n",
        "\n",
        "    Longitud = float(separa_dec(Longit))\n",
        "    Latitud = float(separa_dec(latit))\n",
        "    Dia, longyear,acumulados=dia_anio(fecha)\n",
        "    hora_local = septime_dec(hora_local_str)\n",
        "    if Nor_sur == False:Latitud*=-1\n",
        "    if es_oes == False:Longitud*=-1\n",
        "\n",
        "    ########### Parámetros calculados ################\n",
        "    año_fraccional=round(fracyear(Dia,hora_local,longyear),3)\n",
        "    Declinacion_solar_grados=round(decsol(año_fraccional)*180/mt.pi,3)\n",
        "    eqt=round(edt(año_fraccional),2)\n",
        "    tst=d_gday(tsol(Dia,hora_local,Longitud,GMT)/60)\n",
        "    Hora_angular_grados=round(hang(Dia,hora_local,Longitud,GMT),4)\n",
        "    Angulo_cenital_grados=round(ceang(Dia,hora_local,Latitud,Longitud,GMT)*180/mt.pi,4)\n",
        "    Angulo_acimutal_grados=round(azang(Dia,hora_local,Latitud,Longitud,GMT)*180/mt.pi,4)\n",
        "    Amt=sunrise(Latitud,Longitud,Dia,GMT)\n",
        "    Att=sunset(Latitud,Longitud,Dia,GMT)\n",
        "    Met=snoon(Latitud,Longitud,Dia,GMT)\n",
        "\n",
        "    #Calcula los angulos de inclinacion tomando en cuenta solamente la radiacion directa\n",
        "\n",
        "    angles,x = [],0\n",
        "\n",
        "    angles,x,maac = [],0,0\n",
        "\n",
        "    for i in range(12):\n",
        "      for j in (range(acumulados[i]+1,acumulados[i+1]+1)):\n",
        "        ds=Latitud-decsol( fracyear(j,12,longyear) ) *(180/mt.pi)\n",
        "        mair=np.cos(ds*mt.pi/180)/(1-0.01672*mt.cos(0.9856*(j-4)))**2\n",
        "        maac+=mair\n",
        "        x +=ds*mair\n",
        "        prom=x/maac\n",
        "      x,maac=0,0\n",
        "      angles.append(prom)\n",
        "\n",
        "    #for i in range(1, 361):\n",
        "     #   dsg = decsol( fracyear(i,12,longyear) ) *(180/mt.pi)\n",
        "      #  x += dsg\n",
        "       # if i % 30 == 0:\n",
        "        #    prom = x / 30\n",
        "         #   angles.append(prom)\n",
        "          #  x = 0\n",
        "       # else:\n",
        "        #    continue\n",
        "\n",
        "#    for i in range(12):\n",
        "#        angles[i] = Latitud - angles[i]\n",
        "\n",
        "    Month = ['Jan', 'Feb', 'Mar', 'Abr', 'May', 'Jun', 'Jul', 'Agos', 'Sep', 'Oct', 'Nov', 'Dec']\n",
        "\n",
        "\n",
        "    # Plotting Line Graph\n",
        "    plt.title(\"Ángulos de inclinación óptimos mensuales\")\n",
        "    plt.xlabel('Meses')\n",
        "    plt.ylabel(\"Ángulo óptimo\")\n",
        "    plt.bar(Month, angles)\n",
        "\n",
        "    # Getting the current figure and save it in the variable.\n",
        "    fig = plt.gcf()\n",
        "\n",
        "    # Create a Function for Converting a figure to a PIL Image.\n",
        "\n",
        "    buf = io.BytesIO()\n",
        "    fig.savefig(buf)\n",
        "    buf.seek(0)\n",
        "    imge = Image.open(buf)\n",
        "\n",
        "    return round(año_fraccional,4), round(Declinacion_solar_grados,4), eqt, tst, round(Hora_angular_grados, 4), round(Angulo_cenital_grados, 4), round(Angulo_acimutal_grados,4), Amt, Att, Met, imge\n",
        "# geometria_solar(\"10/10/2023\", \"22:34:00\", -7, \"108°59'03\\\"\",\"25°45'03\\\"\", True, True) Prueba de la función\n"
      ],
      "metadata": {
        "id": "aLYfwVCZMp1R"
      },
      "execution_count": null,
      "outputs": []
    },
    {
      "cell_type": "code",
      "source": [
        "global z\n",
        "z = '\"'\n",
        "with gr.Blocks() as demo:\n",
        "\n",
        "##################################################################\n",
        "    from datetime import datetime\n",
        "    from datetime import date\n",
        "    import pytz\n",
        "\n",
        "    hora = datetime.now(pytz.timezone('America/Mazatlan'))\n",
        "    hmoch=hora.strftime(\"%H:%M:%S\")\n",
        "    dmoch=hora.strftime(\"%d/%m/%Y\")\n",
        "    zonas=[]\n",
        "    for tz in pytz.all_timezones:\n",
        "      zonas.append(tz)\n",
        "\n",
        "\n",
        "##################################################################\n",
        "    gr.Markdown(\n",
        "        \"\"\"\n",
        "        # Calculadora solar Tecnológico Nacional de México / Instituto Tecnológico de Los Mochis\n",
        "        Elaborada en la División de Estudios de Posgrado e Investigación del ITLM.\\n\n",
        "        Por: **Joaquín Montes Vega y Alexander Mendoza Acosta**\n",
        "        \"\"\")\n",
        "        #Entradas\n",
        "    with gr.Tab(\"Datos\"):\n",
        "        with gr.Row():\n",
        "            zona=gr.Dropdown(label=\"Zona horaria\",choices=zonas,value='America/Mazatlan', interactive = True)\n",
        "            Day = gr.Textbox(label=\"Fecha\", placeholder = \"dd/mm/yyyy\", info = \"Ej. 01/05/2023\",value=dmoch)\n",
        "            local_hour = gr.Textbox(label = \"Hora local\", placeholder = \"hh:mm:ss\", info = \"Ej. 17:04:09\",value=hmoch)\n",
        "            GMTs = gr.Number(label = \"Zona horaria\", info = \"Ej. si es -07:00, solo se ingresara el -7\",value=-7)\n",
        "        with gr.Row():\n",
        "            Longitude = gr.Textbox(label = \"Longitud\", placeholder = \"ggg°mm'ss{}\".format(z), info = \"Ej. 5°10'05{}\".format(z),value=\"108°59'03\\\"\")\n",
        "            Latitude = gr.Textbox(label = \"Latitud\", placeholder = \"gg°mm'ss{}\".format(z), info = \"Ej. 20°04'46{}\".format(z),value=\"25°45'03\\\"\")\n",
        "        with gr.Row():\n",
        "            es_oes = gr.Checkbox(label = \"Este\", value = False, interactive = True)\n",
        "            Nor_sur = gr.Checkbox(label = \"Norte\", value = True, interactive = True)\n",
        "\n",
        "    #Salidas\n",
        "    with gr.Tab(\"Resultados\"):\n",
        "\n",
        "        with gr.Row():\n",
        "            frac = gr.Number(label = \"Año Fraccional (rad)\")\n",
        "            Declinacion = gr.Number(label = \"Declinacion solar (°)\")\n",
        "            eqt_min_seg = gr.Textbox(label = \"Ecuacion del tiempo (min)\")\n",
        "            Solartime = gr.Textbox(label = \"Tiempo Solar (hh:mm:ss)\")\n",
        "            angular_hour = gr.Number(label = \"Hora angular (°)\")\n",
        "        with gr.Row():\n",
        "            zenith = gr.Number(label = \"Angulo cenital (°)\")\n",
        "            azimuth = gr.Number(label = \"Angulo acimutal (°)\")\n",
        "            Sunrise = gr.Textbox(label = \"Amanecer (hh:mm:ss)\")\n",
        "            Sunset = gr.Textbox(label = \"Atardecer (hh:mm:ss)\")\n",
        "            Noon = gr.Textbox(label = \"Mediodia Solar (hh:mm:ss)\")\n",
        "        with gr.Row():\n",
        "            angles = gr.Image(label = \"Ángulos de inclinacion óptimos\", info = \"Sólo se toma en cuenta la radiacion directa\")\n",
        "\n",
        "\n",
        "\n",
        "    zona.change(fn=lambda x: (datetime.now(pytz.timezone(x)).strftime(\"%H:%M:%S\"),datetime.now(pytz.timezone(x)).strftime(\"%d/%m/%Y\"),float(datetime.now(pytz.timezone(x)).strftime(\"%H\"))-float(datetime.now(pytz.timezone('UTC')).strftime(\"%H\"))), inputs=zona, outputs=[local_hour,Day,GMTs])\n",
        "    es_oes.change(fn=lambda x: abs(float(x)) if es_oes.value==True else -(x),inputs=GMTs, outputs=GMTs )\n",
        "\n",
        "\n",
        "    Calcular_btn = gr.Button(\"Calcular\")\n",
        "    Calcular_btn.click(fn=geometria_solar,\n",
        "                       inputs=[Day, local_hour, GMTs, Longitude,  Latitude, es_oes, Nor_sur],\n",
        "                       outputs=[frac, Declinacion, eqt_min_seg, Solartime, angular_hour, zenith, azimuth, Sunrise, Sunset, Noon, angles]\n",
        "                       )\n",
        "\n",
        "demo.launch(share = True)"
      ],
      "metadata": {
        "colab": {
          "base_uri": "https://localhost:8080/",
          "height": 611
        },
        "id": "ShScWUIJ_FhP",
        "outputId": "217bba85-f977-4b61-c2ea-5891f3c54738"
      },
      "execution_count": 181,
      "outputs": [
        {
          "output_type": "stream",
          "name": "stdout",
          "text": [
            "Colab notebook detected. To show errors in colab notebook, set debug=True in launch()\n",
            "Running on public URL: https://12855b8f3a9544333f.gradio.live\n",
            "\n",
            "This share link expires in 72 hours. For free permanent hosting and GPU upgrades, run `gradio deploy` from Terminal to deploy to Spaces (https://huggingface.co/spaces)\n"
          ]
        },
        {
          "output_type": "display_data",
          "data": {
            "text/plain": [
              "<IPython.core.display.HTML object>"
            ],
            "text/html": [
              "<div><iframe src=\"https://12855b8f3a9544333f.gradio.live\" width=\"100%\" height=\"500\" allow=\"autoplay; camera; microphone; clipboard-read; clipboard-write;\" frameborder=\"0\" allowfullscreen></iframe></div>"
            ]
          },
          "metadata": {}
        },
        {
          "output_type": "execute_result",
          "data": {
            "text/plain": []
          },
          "metadata": {},
          "execution_count": 181
        }
      ]
    },
    {
      "cell_type": "code",
      "source": [],
      "metadata": {
        "id": "louUIUOG2lcn"
      },
      "execution_count": null,
      "outputs": []
    }
  ]
}