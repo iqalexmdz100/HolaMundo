{
  "cells": [
    {
      "cell_type": "markdown",
      "metadata": {
        "id": "view-in-github",
        "colab_type": "text"
      },
      "source": [
        "<a href=\"https://colab.research.google.com/github/iqalexmdz100/HolaMundo/blob/main/Ejercicio1.ipynb\" target=\"_parent\"><img src=\"https://colab.research.google.com/assets/colab-badge.svg\" alt=\"Open In Colab\"/></a>"
      ]
    },
    {
      "cell_type": "markdown",
      "id": "8f4a016c-9b84-414b-903a-9d98c5c2b803",
      "metadata": {
        "id": "8f4a016c-9b84-414b-903a-9d98c5c2b803"
      },
      "source": [
        "# Programación en Python\n",
        "\n",
        "Esta notebook especifica a la sesión de \"Programación en python\" (parte 1) del curso en Inteligencia Artificial [Instituto Tecnológico de Los Mochis](https://www.mochis.tecnm.mx/)\n",
        "\n",
        "## Instrucciones\n",
        "\n",
        "Seguir indicaciones del guía.\n",
        "\n",
        "## Licencia de la notebook\n",
        "\n",
        "<a rel=\"license\" href=\"http://creativecommons.org/licenses/by/4.0/\"><img alt=\"Creative Commons License\" style=\"border-width:0\" src=\"https://i.creativecommons.org/l/by/4.0/80x15.png\" /></a>\n",
        "</br>This work is licensed under a <a rel=\"license\" href=\"http://creativecommons.org/licenses/by/4.0/\">Creative Commons Attribution 4.0 International License</a>.\n",
        "\n",
        "## General information\n",
        "\n",
        "> **Last updated**: 08/08/2023"
      ]
    },
    {
      "cell_type": "markdown",
      "id": "d1848194-6f3b-4abc-bbe2-6b8d7e48f948",
      "metadata": {
        "id": "d1848194-6f3b-4abc-bbe2-6b8d7e48f948"
      },
      "source": [
        "# 1 Programar mi primera celda\n",
        "\n",
        "En la celda de abajo programa el código que despliega \"Hola mundo\""
      ]
    },
    {
      "cell_type": "code",
      "execution_count": null,
      "id": "e0c4344b-152c-4ce3-965f-e253df070745",
      "metadata": {
        "id": "e0c4344b-152c-4ce3-965f-e253df070745"
      },
      "outputs": [],
      "source": [
        "# Aquí en esta celda va el programa que despliega \"Hola mundo\""
      ]
    },
    {
      "cell_type": "markdown",
      "id": "8f692b44-e6d1-4d30-af0e-bb6db1602d66",
      "metadata": {
        "id": "8f692b44-e6d1-4d30-af0e-bb6db1602d66"
      },
      "source": [
        "# 2 Variables; en esta sección veremos uso de variables"
      ]
    },
    {
      "cell_type": "markdown",
      "id": "5e168fe8-8b0c-4152-8bf9-cc5fc7c6b465",
      "metadata": {
        "id": "5e168fe8-8b0c-4152-8bf9-cc5fc7c6b465"
      },
      "source": [
        "Creando variables con información"
      ]
    },
    {
      "cell_type": "code",
      "execution_count": null,
      "id": "ae66560f-4418-4504-8d69-f79cfc16cf01",
      "metadata": {
        "id": "ae66560f-4418-4504-8d69-f79cfc16cf01"
      },
      "outputs": [],
      "source": [
        "mi_primera_variable=1\n",
        "aquí_mi_segunda_variable=\"yo soy la información importante\"\n",
        "también_puedo_hacer_una_tercera_variable=\"sí es cierto soy una tercera variable\"\n",
        "yo_también_seré_variable_pero_la_información_será_un_número=42\n",
        "yo_también_guardo_un_número_pero_flotante=3421.4056\n",
        "YO_SOY_VARIABLE_PERO_NO_ESTOY_ENOJADA=\"jijijiji\"\n",
        "_yo_soy_una_variable_rara_=1337\n",
        "por_el_momento_guardaré_la_misma_información_que_otra_variable=YO_SOY_VARIABLE_PERO_NO_ESTOY_ENOJADA"
      ]
    },
    {
      "cell_type": "markdown",
      "id": "e8e35471-33ff-4916-826c-46340d5c79c0",
      "metadata": {
        "id": "e8e35471-33ff-4916-826c-46340d5c79c0"
      },
      "source": [
        "Accediendo a la información"
      ]
    },
    {
      "cell_type": "code",
      "execution_count": null,
      "id": "d2d4b761-085c-4816-9000-5094b84dac80",
      "metadata": {
        "id": "d2d4b761-085c-4816-9000-5094b84dac80"
      },
      "outputs": [],
      "source": [
        "print(mi_primera_variable)\n",
        "print(aquí_mi_segunda_variable)\n",
        "print(también_puedo_hacer_una_tercera_variable)\n",
        "print(yo_también_seré_variable_pero_la_información_será_un_número)\n",
        "print(yo_también_guardo_un_número_pero_flotante)\n",
        "print(YO_SOY_VARIABLE_PERO_NO_ESTOY_ENOJADA)\n",
        "print(_yo_soy_una_variable_rara_)\n",
        "print(por_el_momento_guardaré_la_misma_información_que_otra_variable)"
      ]
    },
    {
      "cell_type": "code",
      "execution_count": null,
      "id": "df7419b3-f410-4d7b-8792-10570988cdf8",
      "metadata": {
        "id": "df7419b3-f410-4d7b-8792-10570988cdf8"
      },
      "outputs": [],
      "source": [
        "# ojo la siguiente celda marca un error\n",
        "123_por_la_banda_yo_no_podre_ser_variable=1"
      ]
    },
    {
      "cell_type": "markdown",
      "id": "8e4284e9-8f32-4751-bdfa-c4c2cc6050f0",
      "metadata": {
        "id": "8e4284e9-8f32-4751-bdfa-c4c2cc6050f0"
      },
      "source": [
        "# 3 Estructuras de datos"
      ]
    },
    {
      "cell_type": "markdown",
      "id": "6e3a59da-55c4-415c-8a02-a94923fd0db1",
      "metadata": {
        "id": "6e3a59da-55c4-415c-8a02-a94923fd0db1"
      },
      "source": [
        "## Listas\n",
        "\n",
        "Documentación version 3.8: https://docs.python.org/3.8/tutorial/datastructures.html#more-on-lists"
      ]
    },
    {
      "cell_type": "code",
      "execution_count": null,
      "id": "2da7738e-f154-468a-aee6-18449ee1e671",
      "metadata": {
        "id": "2da7738e-f154-468a-aee6-18449ee1e671"
      },
      "outputs": [],
      "source": [
        "objetos=[\"camisa\",\"corbata\",\"zapatos\",\"blusa\"]\n",
        "print(objetos)\n",
        "objetos.append(\"sombrero\")\n",
        "print(objetos)\n",
        "objetos.append(\"camisa\")\n",
        "print(objetos)\n",
        "print(objetos[2])\n",
        "print(objetos.pop(2))\n",
        "print(objetos)\n",
        "objetos[2]=\"falda\"\n",
        "print(objetos)"
      ]
    },
    {
      "cell_type": "markdown",
      "id": "9b72d9c0-0f70-464a-bc63-aae6cf5a460a",
      "metadata": {
        "id": "9b72d9c0-0f70-464a-bc63-aae6cf5a460a"
      },
      "source": [
        "## Diccionarios\n",
        "\n",
        "Documentación version 3.8: https://docs.python.org/3.8/tutorial/datastructures.html#more-on-lists"
      ]
    },
    {
      "cell_type": "code",
      "execution_count": 1,
      "id": "b7d0b361-a41d-46cd-8e5b-46c88ac368ee",
      "metadata": {
        "id": "b7d0b361-a41d-46cd-8e5b-46c88ac368ee",
        "colab": {
          "base_uri": "https://localhost:8080/"
        },
        "outputId": "ec55f8a4-2426-47e5-9e04-a2de4786e388"
      },
      "outputs": [
        {
          "output_type": "stream",
          "name": "stdout",
          "text": [
            "{'ivan': 333, 'maria': 18, 'jorge': 25}\n",
            "{'ivan': 333, 'maria': 18, 'jorge': 25, 'sebastian': 523}\n",
            "333\n",
            "{'ivan': 333, 'maria': 234, 'sebastian': 523}\n"
          ]
        }
      ],
      "source": [
        "directorio={\"ivan\": 333, 'maria': 18, 'jorge':25}\n",
        "print(directorio)\n",
        "directorio['sebastian']=523\n",
        "print(directorio)\n",
        "print(directorio['ivan'])\n",
        "directorio['maria']=234\n",
        "del directorio['jorge']\n",
        "print(directorio)"
      ]
    },
    {
      "cell_type": "markdown",
      "id": "66a1defa-1768-42fb-b8dc-f2330ea47226",
      "metadata": {
        "id": "66a1defa-1768-42fb-b8dc-f2330ea47226"
      },
      "source": [
        "## Conjuntos\n",
        "\n",
        "Documentación versión 3.8: https://docs.python.org/3.8/tutorial/datastructures.html#sets"
      ]
    },
    {
      "cell_type": "code",
      "execution_count": null,
      "id": "55e1dff7-df88-4fe3-b510-2231029d922a",
      "metadata": {
        "id": "55e1dff7-df88-4fe3-b510-2231029d922a"
      },
      "outputs": [],
      "source": [
        "caras_dado={1,2,3,4,5,6}\n",
        "print(caras_dado)\n",
        "caras_dado.add(7)\n",
        "print(caras_dado)\n",
        "caras_dado.add(6)\n",
        "print(caras_dado)\n",
        "caras_dado.remove(7)\n",
        "print(caras_dado)"
      ]
    },
    {
      "cell_type": "markdown",
      "id": "a9699387-a60d-452b-9b3d-2a0150e59108",
      "metadata": {
        "id": "a9699387-a60d-452b-9b3d-2a0150e59108"
      },
      "source": [
        "# 4 Ciclos\n",
        "\n",
        "Aveces necesitamos recorrer la información"
      ]
    },
    {
      "cell_type": "code",
      "execution_count": null,
      "id": "2b07c300-c52e-40eb-9d57-a6af7916bfda",
      "metadata": {
        "id": "2b07c300-c52e-40eb-9d57-a6af7916bfda"
      },
      "outputs": [],
      "source": [
        "for objeto in objetos:\n",
        "    print(objeto)"
      ]
    },
    {
      "cell_type": "code",
      "execution_count": null,
      "id": "640ae09a-9d63-4648-a486-3edb8915cc00",
      "metadata": {
        "id": "640ae09a-9d63-4648-a486-3edb8915cc00"
      },
      "outputs": [],
      "source": [
        "for persona in directorio:\n",
        "    print(persona)"
      ]
    },
    {
      "cell_type": "code",
      "execution_count": 2,
      "id": "0b9e223a-4e5f-4c5c-ad0f-451b60539eb7",
      "metadata": {
        "id": "0b9e223a-4e5f-4c5c-ad0f-451b60539eb7",
        "colab": {
          "base_uri": "https://localhost:8080/"
        },
        "outputId": "6722cbc8-3d70-4b3c-b839-a25f133e8334"
      },
      "outputs": [
        {
          "output_type": "stream",
          "name": "stdout",
          "text": [
            "ivan 333\n",
            "maria 234\n",
            "sebastian 523\n"
          ]
        }
      ],
      "source": [
        "for persona,num in directorio.items():\n",
        "    print(persona, num)"
      ]
    },
    {
      "cell_type": "code",
      "execution_count": null,
      "id": "8530d254-e845-4fc7-b77a-b1c0ce2890d8",
      "metadata": {
        "id": "8530d254-e845-4fc7-b77a-b1c0ce2890d8"
      },
      "outputs": [],
      "source": [
        "for cara in caras_dado:\n",
        "    print(cara)"
      ]
    },
    {
      "cell_type": "markdown",
      "id": "71d25ba6-f033-434b-b11c-58738d15f5fb",
      "metadata": {
        "id": "71d25ba6-f033-434b-b11c-58738d15f5fb"
      },
      "source": [
        "## Creando estrcuturas al vuelo\n",
        "\n",
        "Se pueden crear estructuras al vuelo bajo la sintaxis de comprension de estructuras"
      ]
    },
    {
      "cell_type": "code",
      "execution_count": null,
      "id": "d2edc639-e8d5-4ea7-922d-72d280a06376",
      "metadata": {
        "id": "d2edc639-e8d5-4ea7-922d-72d280a06376"
      },
      "outputs": [],
      "source": [
        "for num in [i*i for i in range(30)]:\n",
        "    print(num)"
      ]
    },
    {
      "cell_type": "code",
      "execution_count": null,
      "id": "460955e1-de0b-4d87-b6e5-a6e83c507340",
      "metadata": {
        "id": "460955e1-de0b-4d87-b6e5-a6e83c507340"
      },
      "outputs": [],
      "source": [
        "# es posible asignar la estructur al vuelo a una variable\n",
        "valores={i:i*i*i for i in range(100)}\n",
        "for val1,val2 in valores.items():\n",
        "    print(val2)"
      ]
    },
    {
      "cell_type": "code",
      "execution_count": 3,
      "id": "c89955c8-14c6-4d0e-bb96-a7d80139e62b",
      "metadata": {
        "id": "c89955c8-14c6-4d0e-bb96-a7d80139e62b",
        "colab": {
          "base_uri": "https://localhost:8080/"
        },
        "outputId": "4e636da9-253f-4c3e-e112-823c7e64278f"
      },
      "outputs": [
        {
          "output_type": "stream",
          "name": "stdout",
          "text": [
            "{'v', 'g', 'ó', 'A', 'é', 'e', 'x', 'M', 'l', '¡', 'o', '!', 'r', 'c', 'a', 'n', 'd', 'i', 'T', 'N', ' '}\n"
          ]
        }
      ],
      "source": [
        "letras={a for a in \"¡Arriva el Tecnológico Nacional de México!\"}\n",
        "print(letras)"
      ]
    },
    {
      "cell_type": "markdown",
      "id": "3689fab9-f0e5-4490-8518-5849d07e8a47",
      "metadata": {
        "id": "3689fab9-f0e5-4490-8518-5849d07e8a47"
      },
      "source": [
        "## Condicionales\n",
        "\n",
        "A veces sólo queremos queremos ejecutar código si se cumple una condición"
      ]
    },
    {
      "cell_type": "code",
      "execution_count": null,
      "id": "e01dcae3-8e11-469e-9a23-412ad1aa142e",
      "metadata": {
        "id": "e01dcae3-8e11-469e-9a23-412ad1aa142e"
      },
      "outputs": [],
      "source": [
        "esta_variable_manda=False\n",
        "\n",
        "if esta_variable_manda:\n",
        "    print(\"La variable mandó\")\n",
        "else:\n",
        "    print(\"La variable siempre no mandó\")"
      ]
    },
    {
      "cell_type": "code",
      "execution_count": null,
      "id": "7ef956b0-2025-40e6-b313-ce69cdcac158",
      "metadata": {
        "id": "7ef956b0-2025-40e6-b313-ce69cdcac158"
      },
      "outputs": [],
      "source": [
        "un_numero=17\n",
        "otro_numero=18\n",
        "\n",
        "if un_numero > otro_numero:\n",
        "    print(\"un número fue mayor que otro número\")\n",
        "else:\n",
        "    print(\"otro número fur mayor que un número\")"
      ]
    },
    {
      "cell_type": "markdown",
      "id": "9dfe198e-d2e3-4941-a020-9bb8926c680e",
      "metadata": {
        "id": "9dfe198e-d2e3-4941-a020-9bb8926c680e"
      },
      "source": [
        "# Ejecicio en clase\n",
        "\n",
        "Discutir en clase qué hace el siguiente código"
      ]
    },
    {
      "cell_type": "code",
      "execution_count": null,
      "id": "c3dea3ae-e79a-425d-aabb-ffa192bfbe93",
      "metadata": {
        "id": "c3dea3ae-e79a-425d-aabb-ffa192bfbe93"
      },
      "outputs": [],
      "source": [
        "sufijo={\n",
        "    1:\"dor\",\n",
        "    2:\"dero\",\n",
        "    3:\"ero\"}\n",
        "\n",
        "palabras_por_tipo=[\n",
        "    [\"presenta\", \"trabaja\"],\n",
        "    [\"panad\", \"cola\", \"frega\"],\n",
        "    [\"pastel\", \"port\", \"cenic\"]]\n",
        "\n",
        "for tipo,palabras in enumerate(palabras_por_tipo):\n",
        "    for palabra in palabras:\n",
        "        print(palabra+sufijo[tipo+1])"
      ]
    }
  ],
  "metadata": {
    "kernelspec": {
      "display_name": "Python 3 (ipykernel)",
      "language": "python",
      "name": "python3"
    },
    "language_info": {
      "codemirror_mode": {
        "name": "ipython",
        "version": 3
      },
      "file_extension": ".py",
      "mimetype": "text/x-python",
      "name": "python",
      "nbconvert_exporter": "python",
      "pygments_lexer": "ipython3",
      "version": "3.8.10"
    },
    "colab": {
      "provenance": [],
      "include_colab_link": true
    }
  },
  "nbformat": 4,
  "nbformat_minor": 5
}