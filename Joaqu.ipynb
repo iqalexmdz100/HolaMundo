{
  "nbformat": 4,
  "nbformat_minor": 0,
  "metadata": {
    "colab": {
      "provenance": [],
      "include_colab_link": true
    },
    "kernelspec": {
      "name": "python3",
      "display_name": "Python 3"
    },
    "language_info": {
      "name": "python"
    }
  },
  "cells": [
    {
      "cell_type": "markdown",
      "metadata": {
        "id": "view-in-github",
        "colab_type": "text"
      },
      "source": [
        "<a href=\"https://colab.research.google.com/github/iqalexmdz100/HolaMundo/blob/main/Joaqu.ipynb\" target=\"_parent\"><img src=\"https://colab.research.google.com/assets/colab-badge.svg\" alt=\"Open In Colab\"/></a>"
      ]
    },
    {
      "cell_type": "code",
      "execution_count": null,
      "metadata": {
        "id": "kVFI7bDe1e5f"
      },
      "outputs": [],
      "source": [
        "%%capture\n",
        "!pip install gradio\n",
        "import gradio as gr\n",
        "import math as mt"
      ]
    },
    {
      "cell_type": "code",
      "source": [
        "#Funciones solares\n",
        "\n",
        "# Retorna el valor en formato decimal de grados/horas, minutos y segundos\n",
        "def g_d(g,m,s):\n",
        "  return g+m/60+s/3600\n",
        "\n",
        "# Retorna el valor en formato de grados/horas, minutos y segundos dado el decimal\n",
        "def d_g(h):\n",
        "  minuts=int((h-int(h))*60)\n",
        "  seconds=int((60*h-int(h*60))*60)\n",
        "  if minuts<10: minuts=\"0\"+str(minuts)\n",
        "  if seconds<10: seconds=\"0\"+str(minuts)\n",
        "  return str(int(h))+\":\"+str(minuts)+\":\"+str(seconds)\n",
        "\n",
        "#Calcula la fraccion de año en radianes\n",
        "def fracyear(day,lh):\n",
        "  return ((2*mt.pi)/365)*(day-1+((lh-12)/24))\n",
        "\n",
        "# Calcula la declinación solar tomando el año fraccional como argumento\n",
        "def decsol(fy):\n",
        "  return (0.006918-0.399912*mt.cos(fy)+0.070257*mt.sin(fy)-0.006758*mt.cos(2*fy)+0.000907*mt.sin(2*fy)-0.002697*mt.cos(3*fy)+0.00148*mt.sin(3*fy))\n",
        "\n",
        "# Calcula la ecuación del tiempo en minutos tomando como argumento el año fraccional\n",
        "def edt(fy):\n",
        "  return 229.18*(0.000075+0.001868*mt.cos(fy)-0.032077*mt.sin(fy)-0.014615*mt.cos(2*fy)-0.040849*mt.sin(2*fy))\n",
        "\n",
        "# Calcula el time offset\n",
        "def toff(fy,long,utc):\n",
        "  return edt(fy)+4*long-60*utc\n",
        "\n",
        "# Calcula el tiempo solar\n",
        "def tsol(d,h,m,s,long,utc):\n",
        "  lh=g_d(h,m,s)\n",
        "  offs=toff(fracyear(d,lh),long,utc)\n",
        "  return (lh+offs/60)*60\n",
        "\n",
        "#Hora angular\n",
        "def hang(d,h,m,s,long,utc):\n",
        "  lh=g_d(h,m,s)\n",
        "  offs=toff(fracyear(d,lh),long,utc)\n",
        "  tsolar=(lh+offs/60)*60\n",
        "  return (tsolar/4)-180\n",
        "\n",
        "# Ángulo cenital\n",
        "def ceang(d,h,m,s,lat,long,utc):\n",
        "  lh=g_d(h,m,s)\n",
        "  fy=fracyear(d,lh)\n",
        "  ds=decsol(fy)\n",
        "  har=hang(d,h,m,s,long,utc)*mt.pi/180\n",
        "  return mt.acos((mt.sin(lat*(mt.pi/180))*mt.sin(ds))+mt.cos(lat*(mt.pi/180))*mt.cos(ds)*mt.cos(har))\n",
        "\n",
        "\n",
        "# Ángulo Azimut\n",
        "def azang(d,h,m,s,lat,long,utc):\n",
        "  lh=g_d(h,m,s)\n",
        "  cenit=ceang(d,h,m,s,lat,long,utc)\n",
        "  latr=lat*mt.pi/180\n",
        "  fy=fracyear(d,lh)\n",
        "  ds=decsol(fy)\n",
        "  return mt.pi-mt.acos(-(mt.sin(latr)*mt.cos(cenit)-mt.sin(ds))/(mt.cos(latr)*mt.sin(cenit)))\n",
        "\n",
        "def timetopoints(lat,d,h,m,s):\n",
        "  lh=g_d(h,m,s)\n",
        "  fy=fracyear(d,lh)\n",
        "  ds=decsol(fy)\n",
        "  ang=90.833*mt.pi/180\n",
        "  latr=lat*mt.pi/180\n",
        "  return mt.acos(mt.cos(ang)/(mt.cos(latr)*mt.cos(ds))-mt.tan(latr)*mt.tan(ds))*180/mt.pi\n",
        "\n",
        "def sunrise(lat,long,d,utc):\n",
        "  ha=timetopoints(lat,d,12,0,0)\n",
        "  lh=g_d(12,0,0)\n",
        "  fy=fracyear(d,lh)\n",
        "  return d_g((720-4*(long+ha)-edt(fy))/60+utc)\n",
        "\n",
        "def sunset(lat,long,d,utc):\n",
        "  ha=timetopoints(lat,d,12,0,0)\n",
        "  lh=g_d(12,0,0)\n",
        "  fy=fracyear(d,lh)\n",
        "  return d_g((720-4*(long-ha)-edt(fy))/60+utc)\n",
        "\n",
        "def snoon(lat,long,d,utc):\n",
        "  lh=g_d(12,0,0)\n",
        "  fy=fracyear(d,lh)\n",
        "  return d_g((720-4*(long)-edt(fy))/60+utc)\n",
        "\n",
        "h=12.25\n",
        "print(decsol(fracyear(277,h))*180/mt.pi)\n",
        "print(edt(fracyear(277,h)))\n",
        "print(toff(fracyear(277,h),-108,-7))\n",
        "print(tsol(277,h,0,0,-108,-7))\n",
        "print(hang(277,h,0,0,-108,-7))\n",
        "print(ceang(277,h,0,0,25,-108,-7)*180/mt.pi)\n",
        "print(azang(277,h,0,0,25,-108,-7)*180/mt.pi)\n",
        "print(timetopoints(25,277,0,0,0))\n",
        "print(sunrise(25,-108,277,-7))\n",
        "print(sunset(25,-108,277,-7))\n",
        "print(snoon(25,-108,277,-7))\n"
      ],
      "metadata": {
        "id": "-aDPBGzFTqFe",
        "outputId": "fdde055b-707d-4b13-a0f3-14c4e95b92e3",
        "colab": {
          "base_uri": "https://localhost:8080/"
        }
      },
      "execution_count": 44,
      "outputs": [
        {
          "output_type": "stream",
          "name": "stdout",
          "text": [
            "-4.033158988205108\n",
            "11.446834816445977\n",
            "-0.5531651835540288\n",
            "734.446834816446\n",
            "3.611708704111493\n",
            "29.244441838952827\n",
            "7.39019620794722\n",
            "89.12985822953674\n",
            "6:04:23\n",
            "17:56:42\n",
            "12:00:33\n"
          ]
        }
      ]
    },
    {
      "cell_type": "code",
      "source": [],
      "metadata": {
        "colab": {
          "base_uri": "https://localhost:8080/"
        },
        "id": "W3Zrd04JETLj",
        "outputId": "fc1c05a3-8681-48bd-9693-a90d74eb3b9c"
      },
      "execution_count": null,
      "outputs": [
        {
          "output_type": "stream",
          "name": "stdout",
          "text": [
            "-0.402449\n",
            "-0.4022376877865849\n",
            "-0.4020229911334811\n",
            "-0.4018049125177887\n",
            "-0.4015834544573954\n"
          ]
        }
      ]
    },
    {
      "cell_type": "code",
      "source": [
        "\n",
        "\n",
        "def geometria_solar(dia, hlhr, hlmin, hlseg, GMT, longrados, lonminutos, lonsegundos, es_oes, latgrados, latminutos, latsegundos, Nor_sur):\n",
        "    hora_local = hlhr + (hlmin/60) + (hlseg / 3600)\n",
        "    Longitud = longrados + (lonminutos / 60) + (lonsegundos / 3600)\n",
        "    Latitud = latgrados + (latminutos / 60) + (latsegundos / 3600)\n",
        "\n",
        "    #Calcula la fraccion de año en radianes\n",
        "    año_fraccional =((2*mt.pi)/365)*(dia-1+((hora_local-12)/24))\n",
        "\n",
        "    #Calcula la declinacion solar\n",
        "    Declinacion_solar_rad =0.006918-0.399912*mt.cos(año_fraccional)+0.070257*mt.sin(año_fraccional)-0.006758*mt.cos(2*año_fraccional)+0.000907*mt.sin(2*año_fraccional)-0.002697*mt.cos(3*año_fraccional)+0.00148*mt.sin(3*año_fraccional)\n",
        "    Declinacion_solar_grados = Declinacion_solar_rad * (180/mt.pi)\n",
        "\n",
        "    #Calcula la ecuacion del tiempo\n",
        "    Ecuacion_del_tiempo = 229.18*(0.000075+0.001868*mt.cos(año_fraccional)-0.032077*mt.sin(año_fraccional)-0.014615*mt.cos(2*año_fraccional)-0.040849*mt.sin(2*año_fraccional))\n",
        "    min = int(Ecuacion_del_tiempo)\n",
        "    segs = int((Ecuacion_del_tiempo - min) * 60)\n",
        "\n",
        "    if es_oes == True:\n",
        "        nl = Longitud\n",
        "    else:\n",
        "        nl = -Longitud\n",
        "\n",
        "    offset = Ecuacion_del_tiempo+4*nl-60*GMT\n",
        "\n",
        "    #Calcula el tiempo solar\n",
        "    Tiempo_solar = hlhr*60 + hlmin + hlseg/60 + offset\n",
        "    tshr = int(Tiempo_solar/60)\n",
        "    tsmin = int((Tiempo_solar/60 - int(Tiempo_solar/60))*60)\n",
        "    tsseg = int(((Tiempo_solar/60 - int(Tiempo_solar/60))*60 - int((Tiempo_solar/60 - int(Tiempo_solar/60))*60))*60)\n",
        "\n",
        "    #Hora angular\n",
        "    Hora_angular_grados = (Tiempo_solar/4)-180\n",
        "    Hora_angular_rad = Hora_angular_grados * (mt.pi/180)\n",
        "\n",
        "    if Nor_sur == True:\n",
        "        nlat = Latitud\n",
        "    else:\n",
        "        nlat = -Latitud\n",
        "\n",
        "    #Calcula el angulo cenital\n",
        "    Angulo_cenital_rad = mt.acos((mt.sin(nlat*(mt.pi/180))*mt.sin(Declinacion_solar_rad))+mt.cos(nlat*(mt.pi/180))*mt.cos(Declinacion_solar_rad)*mt.cos(Hora_angular_rad))\n",
        "    Angulo_cenital_grados = Angulo_cenital_rad * (180/mt.pi)\n",
        "\n",
        "    #Calcula el angulo acimutal\n",
        "    Angulo_acimutal_grados = -(mt.acos((mt.sin(nlat*(mt.pi/180))*mt.cos(Angulo_cenital_rad) - mt.sin(Declinacion_solar_rad))/(mt.cos(nlat*(mt.pi/180))*mt.sin(Angulo_cenital_rad))))*(180/mt.pi) + 180\n",
        "\n",
        "    #Calcula el amanecer\n",
        "    ha = (mt.acos((mt.cos(90.833*(mt.pi/180))/(mt.cos(nlat*(mt.pi/180))*mt.cos(Declinacion_solar_rad)))-mt.tan(nlat*(mt.pi/180))*mt.tan(Declinacion_solar_rad)))*(180/mt.pi)\n",
        "    Amanecer = (720 - 4 * (nl + ha) - Ecuacion_del_tiempo) + (GMT * 60)\n",
        "    Amhr = int(Amanecer/60)\n",
        "    Ammin = int((Amanecer/60 - int(Amanecer/60))*60)\n",
        "    Amseg = int(((Amanecer/60 - int(Amanecer/60))*60 - int((Amanecer/60 - int(Amanecer/60))*60))*60)\n",
        "\n",
        "    #Calcula el atardecer\n",
        "    haa = (-mt.acos((mt.cos(90.833*(mt.pi/180))/(mt.cos(nlat*(mt.pi/180))*mt.cos(Declinacion_solar_rad)))-mt.tan(nlat*(mt.pi/180))*mt.tan(Declinacion_solar_rad)))*(180/mt.pi)\n",
        "    Atardecer = (720 - 4 * (nl + haa) - Ecuacion_del_tiempo) + (GMT * 60)\n",
        "    Athr = int(Atardecer/60)\n",
        "    Atmin = int((Atardecer/60 - int(Atardecer/60))*60)\n",
        "    Atseg = int(((Atardecer/60 - int(Atardecer/60))*60 - int((Atardecer/60 - int(Atardecer/60))*60))*60)\n",
        "    #Calcula las 12 solares\n",
        "    Mediodia = (720 - 4 * nl - Ecuacion_del_tiempo) + (GMT * 60)\n",
        "    Mehr = int(Mediodia/60)\n",
        "    Memin = int((Mediodia/60 - int(Mediodia/60))*60)\n",
        "    Meseg = int(((Mediodia/60 - int(Mediodia/60))*60 - int((Mediodia/60 - int(Mediodia/60))*60))*60)\n",
        "\n",
        "\n",
        "\n",
        "    return round(año_fraccional,4), round(Declinacion_solar_grados,4), min, segs, tshr, tsmin, tsseg, round(Hora_angular_grados, 4), round(Angulo_cenital_grados, 4), Angulo_acimutal_grados, Amhr, Ammin, Amseg, Athr, Atmin, Atseg, Mehr, Memin, Meseg\n",
        "\n",
        "demo = gr.Interface(fn=geometria_solar,\n",
        "                   inputs=[gr.Number(label=\"Dia\", info = \"Ingrese un dia entre 1 y 365\",value=31),\n",
        "                           gr.Number(label = \"Hora local (Hr)\", info = \"\",value=12),\n",
        "                           gr.Number(label = \"Hora local (min)\",value=0),\n",
        "                           gr.Number(label = \"Hora local (seg)\",value=0),\n",
        "                           gr.Number(label = \"GMT\", info = \"Ej. GMT-7, solo ingrese el '-7'\",value=-7),\n",
        "                           gr.Number(label = \"Longitud (°)\",value=108),\n",
        "                           gr.Number(label = \"Longitud (min)\",value=59),\n",
        "                           gr.Number(label = \"Longitud(seg)\",value=10),\n",
        "                           gr.Checkbox(label = \"Este\", value = False, interactive = True),\n",
        "                           gr.Number(label = \"Latitud (°)\",value=25),\n",
        "                           gr.Number(label = \"Latitud (min)\",value=47),\n",
        "                           gr.Number(label = \"Latitud(seg)\",value=35),\n",
        "                           gr.Checkbox(label = \"Norte\", value = True, interactive = True)\n",
        "                           ],\n",
        "                   outputs=[\n",
        "                            gr.Number(label=\"Año fraccional (Rad)\"), gr.Number(label=\"Declinacion solar (Grados)\"),\n",
        "                            gr.Number(label = \"Ecuacion del tiempo (min)\"), gr.Number(label = \"Ecuacion del tiempo (seg)\"),\n",
        "                            gr.Number(label = \"Tiempo solar (Hr)\"), gr.Number(label = \"Tiempo solar (min)\"),\n",
        "                            gr.Number(label = \"Tiempo solar (seg)\"), gr.Number(label = \"Hora angular (°)\"),\n",
        "                            gr.Number(label = \"Angulo cenital (Grados)\"),\n",
        "                            gr.Number(label = \"Angulo acimutal (Grados)\", info = \"Tomando al norte como referencia\"),\n",
        "                            gr.Number(label = \"Amanecer (Hr)\"), gr.Number(label = \"Amanecer (min)\"),\n",
        "                            gr.Number(label = \"Amanecer (seg)\"), gr.Number(label = \"Atardecer (Hr)\"), gr.Number(label = \"Atardecer (min)\"),\n",
        "                            gr.Number(label = \"Atardecer (seg)\"), gr.Number(label = \"Mediodia solar (Hr)\"),\n",
        "                            gr.Number(label = \"Mediodia solar (min)\"),\n",
        "                            gr.Number(label = \"Mediodia solar (seg)\")\n",
        "                           ]\n",
        "                    )\n",
        "demo.launch(share = True)\n"
      ],
      "metadata": {
        "colab": {
          "base_uri": "https://localhost:8080/",
          "height": 612
        },
        "id": "KJEMOzVu1rXq",
        "outputId": "20094023-deda-47dc-896e-03cf1ac7d11d"
      },
      "execution_count": null,
      "outputs": [
        {
          "output_type": "stream",
          "name": "stdout",
          "text": [
            "Colab notebook detected. To show errors in colab notebook, set debug=True in launch()\n",
            "Running on public URL: https://7d20f962ff0c044501.gradio.live\n",
            "\n",
            "This share link expires in 72 hours. For free permanent hosting and GPU upgrades, run `gradio deploy` from Terminal to deploy to Spaces (https://huggingface.co/spaces)\n"
          ]
        },
        {
          "output_type": "display_data",
          "data": {
            "text/plain": [
              "<IPython.core.display.HTML object>"
            ],
            "text/html": [
              "<div><iframe src=\"https://7d20f962ff0c044501.gradio.live\" width=\"100%\" height=\"500\" allow=\"autoplay; camera; microphone; clipboard-read; clipboard-write;\" frameborder=\"0\" allowfullscreen></iframe></div>"
            ]
          },
          "metadata": {}
        },
        {
          "output_type": "execute_result",
          "data": {
            "text/plain": []
          },
          "metadata": {},
          "execution_count": 3
        }
      ]
    },
    {
      "cell_type": "code",
      "source": [
        "hlhr = 9\n",
        "hlmin = 54\n",
        "hlseg = 0\n",
        "offset = -8.72888\n",
        "Tiempo_solar = hlhr*60 + hlmin + hlseg/60 + offset\n",
        "tshr = int(Tiempo_solar/60)\n",
        "tsmin = int((Tiempo_solar/60 - int(Tiempo_solar/60))*60)\n",
        "tsseg = int(((Tiempo_solar/60 - int(Tiempo_solar/60))*60 - int((Tiempo_solar/60 - int(Tiempo_solar/60))*60))*60)\n",
        "print(Tiempo_solar, tshr, tsmin, tsseg)"
      ],
      "metadata": {
        "colab": {
          "base_uri": "https://localhost:8080/"
        },
        "id": "zJgI04sk2r1L",
        "outputId": "b5b1689e-a0ff-4d8d-b076-bdb55570f338"
      },
      "execution_count": null,
      "outputs": [
        {
          "output_type": "stream",
          "name": "stdout",
          "text": [
            "585.27112 9 45 16\n"
          ]
        }
      ]
    },
    {
      "cell_type": "code",
      "source": [
        "Tiempo_solar\n",
        "int(Tiempo_solar)"
      ],
      "metadata": {
        "colab": {
          "base_uri": "https://localhost:8080/"
        },
        "id": "C4TMHhBnLHbK",
        "outputId": "ef205e2e-d3b9-4932-f62c-5facc995efbc"
      },
      "execution_count": null,
      "outputs": [
        {
          "output_type": "execute_result",
          "data": {
            "text/plain": [
              "585"
            ]
          },
          "metadata": {},
          "execution_count": 22
        }
      ]
    },
    {
      "cell_type": "code",
      "source": [
        "def data_display(input_img):\n",
        "    return input_img\n",
        "\n",
        "demo = gr.Interface(data_display, gr.Dataframe(), \"dataframe\")\n",
        "demo.launch()"
      ],
      "metadata": {
        "id": "SHONwjwpLW8-",
        "colab": {
          "base_uri": "https://localhost:8080/",
          "height": 645
        },
        "outputId": "fcdb1918-e665-4704-9234-af21f35e5a9b"
      },
      "execution_count": 45,
      "outputs": [
        {
          "output_type": "stream",
          "name": "stdout",
          "text": [
            "Setting queue=True in a Colab notebook requires sharing enabled. Setting `share=True` (you can turn this off by setting `share=False` in `launch()` explicitly).\n",
            "\n",
            "Colab notebook detected. To show errors in colab notebook, set debug=True in launch()\n",
            "Running on public URL: https://edb3b5dfe886363a62.gradio.live\n",
            "\n",
            "This share link expires in 72 hours. For free permanent hosting and GPU upgrades, run `gradio deploy` from Terminal to deploy to Spaces (https://huggingface.co/spaces)\n"
          ]
        },
        {
          "output_type": "display_data",
          "data": {
            "text/plain": [
              "<IPython.core.display.HTML object>"
            ],
            "text/html": [
              "<div><iframe src=\"https://edb3b5dfe886363a62.gradio.live\" width=\"100%\" height=\"500\" allow=\"autoplay; camera; microphone; clipboard-read; clipboard-write;\" frameborder=\"0\" allowfullscreen></iframe></div>"
            ]
          },
          "metadata": {}
        },
        {
          "output_type": "execute_result",
          "data": {
            "text/plain": []
          },
          "metadata": {},
          "execution_count": 45
        }
      ]
    }
  ]
}